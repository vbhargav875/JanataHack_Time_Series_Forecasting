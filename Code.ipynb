{
  "nbformat": 4,
  "nbformat_minor": 0,
  "metadata": {
    "colab": {
      "name": "Electrolysia.ipynb",
      "provenance": []
    },
    "kernelspec": {
      "name": "python3",
      "display_name": "Python 3"
    }
  },
  "cells": [
    {
      "cell_type": "code",
      "metadata": {
        "id": "qh7vCRBIg8CO",
        "colab_type": "code",
        "colab": {
          "base_uri": "https://localhost:8080/",
          "height": 71
        },
        "outputId": "724ebadc-bb2b-42b6-eb66-f7735cc517db"
      },
      "source": [
        "import pandas as pd\n",
        "import numpy as np\n",
        "from sklearn.preprocessing import LabelEncoder\n",
        "import gc\n",
        "from matplotlib import pyplot\n",
        "from sklearn.ensemble import RandomForestRegressor\n",
        "from sklearn.model_selection import train_test_split\n",
        "from sklearn.metrics import mean_squared_error\n",
        "from lightgbm import LGBMRegressor\n",
        "import xgboost as xgb\n",
        "from xgboost import plot_importance, plot_tree\n",
        "import matplotlib.pyplot as plt\n",
        "import seaborn as sns\n",
        "from tensorflow.keras.models import Sequential\n",
        "from tensorflow.keras.optimizers import RMSprop\n",
        "from tensorflow.keras.layers import Conv1D, Conv2D, MaxPooling1D, MaxPooling2D, Flatten, Dense, Reshape, Dropout, LSTM, RepeatVector, TimeDistributed"
      ],
      "execution_count": 1,
      "outputs": [
        {
          "output_type": "stream",
          "text": [
            "/usr/local/lib/python3.6/dist-packages/statsmodels/tools/_testing.py:19: FutureWarning: pandas.util.testing is deprecated. Use the functions in the public API at pandas.testing instead.\n",
            "  import pandas.util.testing as tm\n"
          ],
          "name": "stderr"
        }
      ]
    },
    {
      "cell_type": "code",
      "metadata": {
        "id": "dKHMbVoghDST",
        "colab_type": "code",
        "colab": {}
      },
      "source": [
        "train = pd.read_csv(\"/content/train.csv\")\n",
        "test = pd.read_csv(\"/content/test.csv\")\n",
        "sample_submission = pd.read_csv(\"/content/sample_submission.csv\")"
      ],
      "execution_count": 0,
      "outputs": []
    },
    {
      "cell_type": "code",
      "metadata": {
        "id": "EMN4_aWthcy4",
        "colab_type": "code",
        "outputId": "3236e859-f8db-4922-ccde-3ff457b0cb0e",
        "colab": {
          "base_uri": "https://localhost:8080/",
          "height": 204
        }
      },
      "source": [
        "train.head()"
      ],
      "execution_count": 3,
      "outputs": [
        {
          "output_type": "execute_result",
          "data": {
            "text/html": [
              "<div>\n",
              "<style scoped>\n",
              "    .dataframe tbody tr th:only-of-type {\n",
              "        vertical-align: middle;\n",
              "    }\n",
              "\n",
              "    .dataframe tbody tr th {\n",
              "        vertical-align: top;\n",
              "    }\n",
              "\n",
              "    .dataframe thead th {\n",
              "        text-align: right;\n",
              "    }\n",
              "</style>\n",
              "<table border=\"1\" class=\"dataframe\">\n",
              "  <thead>\n",
              "    <tr style=\"text-align: right;\">\n",
              "      <th></th>\n",
              "      <th>ID</th>\n",
              "      <th>datetime</th>\n",
              "      <th>temperature</th>\n",
              "      <th>var1</th>\n",
              "      <th>pressure</th>\n",
              "      <th>windspeed</th>\n",
              "      <th>var2</th>\n",
              "      <th>electricity_consumption</th>\n",
              "    </tr>\n",
              "  </thead>\n",
              "  <tbody>\n",
              "    <tr>\n",
              "      <th>0</th>\n",
              "      <td>0</td>\n",
              "      <td>2013-07-01 00:00:00</td>\n",
              "      <td>-11.4</td>\n",
              "      <td>-17.1</td>\n",
              "      <td>1003.0</td>\n",
              "      <td>571.910</td>\n",
              "      <td>A</td>\n",
              "      <td>216.0</td>\n",
              "    </tr>\n",
              "    <tr>\n",
              "      <th>1</th>\n",
              "      <td>1</td>\n",
              "      <td>2013-07-01 01:00:00</td>\n",
              "      <td>-12.1</td>\n",
              "      <td>-19.3</td>\n",
              "      <td>996.0</td>\n",
              "      <td>575.040</td>\n",
              "      <td>A</td>\n",
              "      <td>210.0</td>\n",
              "    </tr>\n",
              "    <tr>\n",
              "      <th>2</th>\n",
              "      <td>2</td>\n",
              "      <td>2013-07-01 02:00:00</td>\n",
              "      <td>-12.9</td>\n",
              "      <td>-20.0</td>\n",
              "      <td>1000.0</td>\n",
              "      <td>578.435</td>\n",
              "      <td>A</td>\n",
              "      <td>225.0</td>\n",
              "    </tr>\n",
              "    <tr>\n",
              "      <th>3</th>\n",
              "      <td>3</td>\n",
              "      <td>2013-07-01 03:00:00</td>\n",
              "      <td>-11.4</td>\n",
              "      <td>-17.1</td>\n",
              "      <td>995.0</td>\n",
              "      <td>582.580</td>\n",
              "      <td>A</td>\n",
              "      <td>216.0</td>\n",
              "    </tr>\n",
              "    <tr>\n",
              "      <th>4</th>\n",
              "      <td>4</td>\n",
              "      <td>2013-07-01 04:00:00</td>\n",
              "      <td>-11.4</td>\n",
              "      <td>-19.3</td>\n",
              "      <td>1005.0</td>\n",
              "      <td>586.600</td>\n",
              "      <td>A</td>\n",
              "      <td>222.0</td>\n",
              "    </tr>\n",
              "  </tbody>\n",
              "</table>\n",
              "</div>"
            ],
            "text/plain": [
              "   ID             datetime  ...  var2  electricity_consumption\n",
              "0   0  2013-07-01 00:00:00  ...     A                    216.0\n",
              "1   1  2013-07-01 01:00:00  ...     A                    210.0\n",
              "2   2  2013-07-01 02:00:00  ...     A                    225.0\n",
              "3   3  2013-07-01 03:00:00  ...     A                    216.0\n",
              "4   4  2013-07-01 04:00:00  ...     A                    222.0\n",
              "\n",
              "[5 rows x 8 columns]"
            ]
          },
          "metadata": {
            "tags": []
          },
          "execution_count": 3
        }
      ]
    },
    {
      "cell_type": "code",
      "metadata": {
        "id": "AdmZsVkx9yIU",
        "colab_type": "code",
        "colab": {
          "base_uri": "https://localhost:8080/",
          "height": 204
        },
        "outputId": "8d3614e3-de1d-434e-c84a-0a3220a087a2"
      },
      "source": [
        "test.head()"
      ],
      "execution_count": 4,
      "outputs": [
        {
          "output_type": "execute_result",
          "data": {
            "text/html": [
              "<div>\n",
              "<style scoped>\n",
              "    .dataframe tbody tr th:only-of-type {\n",
              "        vertical-align: middle;\n",
              "    }\n",
              "\n",
              "    .dataframe tbody tr th {\n",
              "        vertical-align: top;\n",
              "    }\n",
              "\n",
              "    .dataframe thead th {\n",
              "        text-align: right;\n",
              "    }\n",
              "</style>\n",
              "<table border=\"1\" class=\"dataframe\">\n",
              "  <thead>\n",
              "    <tr style=\"text-align: right;\">\n",
              "      <th></th>\n",
              "      <th>ID</th>\n",
              "      <th>datetime</th>\n",
              "      <th>temperature</th>\n",
              "      <th>var1</th>\n",
              "      <th>pressure</th>\n",
              "      <th>windspeed</th>\n",
              "      <th>var2</th>\n",
              "    </tr>\n",
              "  </thead>\n",
              "  <tbody>\n",
              "    <tr>\n",
              "      <th>0</th>\n",
              "      <td>552</td>\n",
              "      <td>2013-07-24 00:00:00</td>\n",
              "      <td>-10.0</td>\n",
              "      <td>-16.4</td>\n",
              "      <td>1011.0</td>\n",
              "      <td>263.280</td>\n",
              "      <td>A</td>\n",
              "    </tr>\n",
              "    <tr>\n",
              "      <th>1</th>\n",
              "      <td>553</td>\n",
              "      <td>2013-07-24 01:00:00</td>\n",
              "      <td>-10.0</td>\n",
              "      <td>-20.7</td>\n",
              "      <td>1011.0</td>\n",
              "      <td>267.175</td>\n",
              "      <td>A</td>\n",
              "    </tr>\n",
              "    <tr>\n",
              "      <th>2</th>\n",
              "      <td>554</td>\n",
              "      <td>2013-07-24 02:00:00</td>\n",
              "      <td>-10.7</td>\n",
              "      <td>-17.1</td>\n",
              "      <td>1003.0</td>\n",
              "      <td>269.555</td>\n",
              "      <td>A</td>\n",
              "    </tr>\n",
              "    <tr>\n",
              "      <th>3</th>\n",
              "      <td>555</td>\n",
              "      <td>2013-07-24 03:00:00</td>\n",
              "      <td>-13.6</td>\n",
              "      <td>-20.7</td>\n",
              "      <td>1008.0</td>\n",
              "      <td>273.060</td>\n",
              "      <td>A</td>\n",
              "    </tr>\n",
              "    <tr>\n",
              "      <th>4</th>\n",
              "      <td>556</td>\n",
              "      <td>2013-07-24 04:00:00</td>\n",
              "      <td>-10.7</td>\n",
              "      <td>-17.1</td>\n",
              "      <td>1006.0</td>\n",
              "      <td>1.765</td>\n",
              "      <td>A</td>\n",
              "    </tr>\n",
              "  </tbody>\n",
              "</table>\n",
              "</div>"
            ],
            "text/plain": [
              "    ID             datetime  temperature  var1  pressure  windspeed var2\n",
              "0  552  2013-07-24 00:00:00        -10.0 -16.4    1011.0    263.280    A\n",
              "1  553  2013-07-24 01:00:00        -10.0 -20.7    1011.0    267.175    A\n",
              "2  554  2013-07-24 02:00:00        -10.7 -17.1    1003.0    269.555    A\n",
              "3  555  2013-07-24 03:00:00        -13.6 -20.7    1008.0    273.060    A\n",
              "4  556  2013-07-24 04:00:00        -10.7 -17.1    1006.0      1.765    A"
            ]
          },
          "metadata": {
            "tags": []
          },
          "execution_count": 4
        }
      ]
    },
    {
      "cell_type": "code",
      "metadata": {
        "id": "fwaY_KWm96h2",
        "colab_type": "code",
        "colab": {
          "base_uri": "https://localhost:8080/",
          "height": 204
        },
        "outputId": "209d101f-3a8c-4a90-c74d-cda205eac787"
      },
      "source": [
        "sample_submission.head()"
      ],
      "execution_count": 5,
      "outputs": [
        {
          "output_type": "execute_result",
          "data": {
            "text/html": [
              "<div>\n",
              "<style scoped>\n",
              "    .dataframe tbody tr th:only-of-type {\n",
              "        vertical-align: middle;\n",
              "    }\n",
              "\n",
              "    .dataframe tbody tr th {\n",
              "        vertical-align: top;\n",
              "    }\n",
              "\n",
              "    .dataframe thead th {\n",
              "        text-align: right;\n",
              "    }\n",
              "</style>\n",
              "<table border=\"1\" class=\"dataframe\">\n",
              "  <thead>\n",
              "    <tr style=\"text-align: right;\">\n",
              "      <th></th>\n",
              "      <th>ID</th>\n",
              "      <th>electricity_consumption</th>\n",
              "    </tr>\n",
              "  </thead>\n",
              "  <tbody>\n",
              "    <tr>\n",
              "      <th>0</th>\n",
              "      <td>552</td>\n",
              "      <td>0</td>\n",
              "    </tr>\n",
              "    <tr>\n",
              "      <th>1</th>\n",
              "      <td>553</td>\n",
              "      <td>0</td>\n",
              "    </tr>\n",
              "    <tr>\n",
              "      <th>2</th>\n",
              "      <td>554</td>\n",
              "      <td>0</td>\n",
              "    </tr>\n",
              "    <tr>\n",
              "      <th>3</th>\n",
              "      <td>555</td>\n",
              "      <td>0</td>\n",
              "    </tr>\n",
              "    <tr>\n",
              "      <th>4</th>\n",
              "      <td>556</td>\n",
              "      <td>0</td>\n",
              "    </tr>\n",
              "  </tbody>\n",
              "</table>\n",
              "</div>"
            ],
            "text/plain": [
              "    ID  electricity_consumption\n",
              "0  552                        0\n",
              "1  553                        0\n",
              "2  554                        0\n",
              "3  555                        0\n",
              "4  556                        0"
            ]
          },
          "metadata": {
            "tags": []
          },
          "execution_count": 5
        }
      ]
    },
    {
      "cell_type": "markdown",
      "metadata": {
        "id": "aw2XU886CUeW",
        "colab_type": "text"
      },
      "source": [
        "**EDA**"
      ]
    },
    {
      "cell_type": "code",
      "metadata": {
        "id": "G1KjbYOSlWBo",
        "colab_type": "code",
        "colab": {
          "base_uri": "https://localhost:8080/",
          "height": 1000
        },
        "outputId": "76767ac9-1900-43b2-b4bd-58944edb9f7d"
      },
      "source": [
        "plt.figure(figsize=(10,4))\n",
        "plt.xlim(-100, 3000)\n",
        "sns.boxplot(x=train.electricity_consumption)\n",
        "\n",
        "plt.figure(figsize=(10,4))\n",
        "plt.xlim(train.temperature.min(), train.temperature.max()*1.1)\n",
        "sns.boxplot(x=train.temperature)\n",
        "\n",
        "plt.figure(figsize=(10,4))\n",
        "plt.xlim(-100, 3000)\n",
        "sns.boxplot(x=train.windspeed)\n",
        "\n",
        "plt.figure(figsize=(10,4))\n",
        "plt.xlim(train.var1.min(), train.var1.max()*1.1)\n",
        "sns.boxplot(x=train.var1)\n",
        "\n",
        "plt.figure(figsize=(10,4))\n",
        "plt.xlim(train.pressure.min(), train.pressure.max()*1.1)\n",
        "sns.boxplot(x=train.pressure)"
      ],
      "execution_count": 6,
      "outputs": [
        {
          "output_type": "execute_result",
          "data": {
            "text/plain": [
              "<matplotlib.axes._subplots.AxesSubplot at 0x7ff1e6fb3c18>"
            ]
          },
          "metadata": {
            "tags": []
          },
          "execution_count": 6
        },
        {
          "output_type": "display_data",
          "data": {
            "image/png": "[encoded data removed]",
            "text/plain": [
              "<Figure size 720x288 with 1 Axes>"
            ]
          },
          "metadata": {
            "tags": [],
            "needs_background": "light"
          }
        },
        {
          "output_type": "display_data",
          "data": {
            "image/png": "[encoded data removed]",
            "text/plain": [
              "<Figure size 720x288 with 1 Axes>"
            ]
          },
          "metadata": {
            "tags": [],
            "needs_background": "light"
          }
        },
        {
          "output_type": "display_data",
          "data": {
            "image/png": "[encoded data removed]",
            "text/plain": [
              "<Figure size 720x288 with 1 Axes>"
            ]
          },
          "metadata": {
            "tags": [],
            "needs_background": "light"
          }
        },
        {
          "output_type": "display_data",
          "data": {
            "image/png": "[encoded data removed]",
            "text/plain": [
              "<Figure size 720x288 with 1 Axes>"
            ]
          },
          "metadata": {
            "tags": [],
            "needs_background": "light"
          }
        },
        {
          "output_type": "display_data",
          "data": {
            "image/png": "[encoded data removed]",
            "text/plain": [
              "<Figure size 720x288 with 1 Axes>"
            ]
          },
          "metadata": {
            "tags": [],
            "needs_background": "light"
          }
        }
      ]
    },
    {
      "cell_type": "code",
      "metadata": {
        "id": "yTScZTKKZpp-",
        "colab_type": "code",
        "colab": {}
      },
      "source": [
        "train = train[train['electricity_consumption']<=1000]"
      ],
      "execution_count": 0,
      "outputs": []
    },
    {
      "cell_type": "code",
      "metadata": {
        "id": "igzzd6nt-O6t",
        "colab_type": "code",
        "colab": {}
      },
      "source": [
        "train = train[train['var1']>=-30]"
      ],
      "execution_count": 0,
      "outputs": []
    },
    {
      "cell_type": "code",
      "metadata": {
        "id": "EW5ZxY6A-SMg",
        "colab_type": "code",
        "colab": {}
      },
      "source": [
        "train = train[train['windspeed']<=400]"
      ],
      "execution_count": 0,
      "outputs": []
    },
    {
      "cell_type": "code",
      "metadata": {
        "id": "XKk9ZwTg-KqU",
        "colab_type": "code",
        "colab": {
          "base_uri": "https://localhost:8080/",
          "height": 334
        },
        "outputId": "321d5c6f-d3e6-4bbd-d4a9-f0de3786b074"
      },
      "source": [
        "print(train.temperature.min())\n",
        "print(train.temperature.max())\n",
        "print(train.temperature.mean())\n",
        "pyplot.plot(train.temperature)"
      ],
      "execution_count": 10,
      "outputs": [
        {
          "output_type": "stream",
          "text": [
            "-17.1\n",
            "23.6\n",
            "5.121189773844646\n"
          ],
          "name": "stdout"
        },
        {
          "output_type": "execute_result",
          "data": {
            "text/plain": [
              "[<matplotlib.lines.Line2D at 0x7ff1e6e0d908>]"
            ]
          },
          "metadata": {
            "tags": []
          },
          "execution_count": 10
        },
        {
          "output_type": "display_data",
          "data": {
            "image/png": "[encoded data removed]",
            "text/plain": [
              "<Figure size 432x288 with 1 Axes>"
            ]
          },
          "metadata": {
            "tags": [],
            "needs_background": "light"
          }
        }
      ]
    },
    {
      "cell_type": "code",
      "metadata": {
        "id": "7Xg5zZ4u-gkL",
        "colab_type": "code",
        "outputId": "a99b1370-6c39-4a83-edcb-4cb7e8d3fe49",
        "colab": {
          "base_uri": "https://localhost:8080/",
          "height": 333
        }
      },
      "source": [
        "print(train.pressure.min())\n",
        "print(train.pressure.max())\n",
        "print(train.pressure.mean())\n",
        "pyplot.plot(train.pressure)"
      ],
      "execution_count": 11,
      "outputs": [
        {
          "output_type": "stream",
          "text": [
            "953.0\n",
            "1024.0\n",
            "986.4262347780046\n"
          ],
          "name": "stdout"
        },
        {
          "output_type": "execute_result",
          "data": {
            "text/plain": [
              "[<matplotlib.lines.Line2D at 0x7ff1e6946b00>]"
            ]
          },
          "metadata": {
            "tags": []
          },
          "execution_count": 11
        },
        {
          "output_type": "display_data",
          "data": {
            "image/png": "[encoded data removed]",
            "text/plain": [
              "<Figure size 432x288 with 1 Axes>"
            ]
          },
          "metadata": {
            "tags": [],
            "needs_background": "light"
          }
        }
      ]
    },
    {
      "cell_type": "code",
      "metadata": {
        "id": "sYRvUecG-hO6",
        "colab_type": "code",
        "outputId": "607a7da1-98f6-4038-ae73-8ce707858dfe",
        "colab": {
          "base_uri": "https://localhost:8080/",
          "height": 333
        }
      },
      "source": [
        "print(train.windspeed.min())\n",
        "print(train.windspeed.max())\n",
        "print(train.windspeed.mean())\n",
        "pyplot.plot(train.windspeed)"
      ],
      "execution_count": 12,
      "outputs": [
        {
          "output_type": "stream",
          "text": [
            "1.075\n",
            "399.645\n",
            "23.427310339614312\n"
          ],
          "name": "stdout"
        },
        {
          "output_type": "execute_result",
          "data": {
            "text/plain": [
              "[<matplotlib.lines.Line2D at 0x7ff1e68af400>]"
            ]
          },
          "metadata": {
            "tags": []
          },
          "execution_count": 12
        },
        {
          "output_type": "display_data",
          "data": {
            "image/png": "[encoded data removed]",
            "text/plain": [
              "<Figure size 432x288 with 1 Axes>"
            ]
          },
          "metadata": {
            "tags": [],
            "needs_background": "light"
          }
        }
      ]
    },
    {
      "cell_type": "code",
      "metadata": {
        "id": "BueaMQID-iqA",
        "colab_type": "code",
        "outputId": "d0b7aa10-7ceb-4230-bc8d-489fd9fe3ebe",
        "colab": {
          "base_uri": "https://localhost:8080/",
          "height": 333
        }
      },
      "source": [
        "print(train.var1.min())\n",
        "print(train.var1.max())\n",
        "print(train.var1.mean())\n",
        "pyplot.plot(train.var1)"
      ],
      "execution_count": 13,
      "outputs": [
        {
          "output_type": "stream",
          "text": [
            "-29.3\n",
            "18.6\n",
            "-1.8917933590500007\n"
          ],
          "name": "stdout"
        },
        {
          "output_type": "execute_result",
          "data": {
            "text/plain": [
              "[<matplotlib.lines.Line2D at 0x7ff1e689a198>]"
            ]
          },
          "metadata": {
            "tags": []
          },
          "execution_count": 13
        },
        {
          "output_type": "display_data",
          "data": {
            "image/png": "[encoded data removed]",
            "text/plain": [
              "<Figure size 432x288 with 1 Axes>"
            ]
          },
          "metadata": {
            "tags": [],
            "needs_background": "light"
          }
        }
      ]
    },
    {
      "cell_type": "code",
      "metadata": {
        "id": "Pjp68fdJhosS",
        "colab_type": "code",
        "outputId": "96a9797d-7b2c-4496-fca4-0fa43f9b8ff2",
        "colab": {
          "base_uri": "https://localhost:8080/",
          "height": 34
        }
      },
      "source": [
        "train.var2.unique()"
      ],
      "execution_count": 14,
      "outputs": [
        {
          "output_type": "execute_result",
          "data": {
            "text/plain": [
              "array(['A', 'B', 'C'], dtype=object)"
            ]
          },
          "metadata": {
            "tags": []
          },
          "execution_count": 14
        }
      ]
    },
    {
      "cell_type": "code",
      "metadata": {
        "id": "BbVAT-Pfh6w_",
        "colab_type": "code",
        "colab": {}
      },
      "source": [
        "le = LabelEncoder()\n",
        "train[\"var2_label\"] = le.fit_transform(train.var2)\n",
        "train = train.drop('var2',axis=1)\n",
        "le = LabelEncoder()\n",
        "test[\"var2_label\"] = le.fit_transform(test.var2)\n",
        "test = test.drop('var2',axis=1)"
      ],
      "execution_count": 0,
      "outputs": []
    },
    {
      "cell_type": "code",
      "metadata": {
        "id": "rRxNfsIGig1q",
        "colab_type": "code",
        "outputId": "5083d0b7-f328-46de-819d-1639e47bf097",
        "colab": {
          "base_uri": "https://localhost:8080/",
          "height": 204
        }
      },
      "source": [
        "train.head()"
      ],
      "execution_count": 16,
      "outputs": [
        {
          "output_type": "execute_result",
          "data": {
            "text/html": [
              "<div>\n",
              "<style scoped>\n",
              "    .dataframe tbody tr th:only-of-type {\n",
              "        vertical-align: middle;\n",
              "    }\n",
              "\n",
              "    .dataframe tbody tr th {\n",
              "        vertical-align: top;\n",
              "    }\n",
              "\n",
              "    .dataframe thead th {\n",
              "        text-align: right;\n",
              "    }\n",
              "</style>\n",
              "<table border=\"1\" class=\"dataframe\">\n",
              "  <thead>\n",
              "    <tr style=\"text-align: right;\">\n",
              "      <th></th>\n",
              "      <th>ID</th>\n",
              "      <th>datetime</th>\n",
              "      <th>temperature</th>\n",
              "      <th>var1</th>\n",
              "      <th>pressure</th>\n",
              "      <th>windspeed</th>\n",
              "      <th>electricity_consumption</th>\n",
              "      <th>var2_label</th>\n",
              "    </tr>\n",
              "  </thead>\n",
              "  <tbody>\n",
              "    <tr>\n",
              "      <th>5</th>\n",
              "      <td>5</td>\n",
              "      <td>2013-07-01 05:00:00</td>\n",
              "      <td>-10.7</td>\n",
              "      <td>-19.3</td>\n",
              "      <td>1013.0</td>\n",
              "      <td>2.790</td>\n",
              "      <td>216.0</td>\n",
              "      <td>0</td>\n",
              "    </tr>\n",
              "    <tr>\n",
              "      <th>6</th>\n",
              "      <td>6</td>\n",
              "      <td>2013-07-01 06:00:00</td>\n",
              "      <td>-13.6</td>\n",
              "      <td>-17.1</td>\n",
              "      <td>1006.0</td>\n",
              "      <td>4.380</td>\n",
              "      <td>219.0</td>\n",
              "      <td>0</td>\n",
              "    </tr>\n",
              "    <tr>\n",
              "      <th>7</th>\n",
              "      <td>7</td>\n",
              "      <td>2013-07-01 07:00:00</td>\n",
              "      <td>-11.4</td>\n",
              "      <td>-17.9</td>\n",
              "      <td>997.0</td>\n",
              "      <td>7.635</td>\n",
              "      <td>222.0</td>\n",
              "      <td>0</td>\n",
              "    </tr>\n",
              "    <tr>\n",
              "      <th>8</th>\n",
              "      <td>8</td>\n",
              "      <td>2013-07-01 08:00:00</td>\n",
              "      <td>-10.7</td>\n",
              "      <td>-18.6</td>\n",
              "      <td>1012.0</td>\n",
              "      <td>12.055</td>\n",
              "      <td>219.0</td>\n",
              "      <td>0</td>\n",
              "    </tr>\n",
              "    <tr>\n",
              "      <th>9</th>\n",
              "      <td>9</td>\n",
              "      <td>2013-07-01 09:00:00</td>\n",
              "      <td>-10.0</td>\n",
              "      <td>-16.4</td>\n",
              "      <td>1002.0</td>\n",
              "      <td>17.975</td>\n",
              "      <td>222.0</td>\n",
              "      <td>0</td>\n",
              "    </tr>\n",
              "  </tbody>\n",
              "</table>\n",
              "</div>"
            ],
            "text/plain": [
              "   ID             datetime  ...  electricity_consumption  var2_label\n",
              "5   5  2013-07-01 05:00:00  ...                    216.0           0\n",
              "6   6  2013-07-01 06:00:00  ...                    219.0           0\n",
              "7   7  2013-07-01 07:00:00  ...                    222.0           0\n",
              "8   8  2013-07-01 08:00:00  ...                    219.0           0\n",
              "9   9  2013-07-01 09:00:00  ...                    222.0           0\n",
              "\n",
              "[5 rows x 8 columns]"
            ]
          },
          "metadata": {
            "tags": []
          },
          "execution_count": 16
        }
      ]
    },
    {
      "cell_type": "code",
      "metadata": {
        "id": "WKm62NbqiiuF",
        "colab_type": "code",
        "outputId": "685fdfce-6188-44dc-e222-43b163fdd831",
        "colab": {
          "base_uri": "https://localhost:8080/",
          "height": 204
        }
      },
      "source": [
        "test.head()"
      ],
      "execution_count": 17,
      "outputs": [
        {
          "output_type": "execute_result",
          "data": {
            "text/html": [
              "<div>\n",
              "<style scoped>\n",
              "    .dataframe tbody tr th:only-of-type {\n",
              "        vertical-align: middle;\n",
              "    }\n",
              "\n",
              "    .dataframe tbody tr th {\n",
              "        vertical-align: top;\n",
              "    }\n",
              "\n",
              "    .dataframe thead th {\n",
              "        text-align: right;\n",
              "    }\n",
              "</style>\n",
              "<table border=\"1\" class=\"dataframe\">\n",
              "  <thead>\n",
              "    <tr style=\"text-align: right;\">\n",
              "      <th></th>\n",
              "      <th>ID</th>\n",
              "      <th>datetime</th>\n",
              "      <th>temperature</th>\n",
              "      <th>var1</th>\n",
              "      <th>pressure</th>\n",
              "      <th>windspeed</th>\n",
              "      <th>var2_label</th>\n",
              "    </tr>\n",
              "  </thead>\n",
              "  <tbody>\n",
              "    <tr>\n",
              "      <th>0</th>\n",
              "      <td>552</td>\n",
              "      <td>2013-07-24 00:00:00</td>\n",
              "      <td>-10.0</td>\n",
              "      <td>-16.4</td>\n",
              "      <td>1011.0</td>\n",
              "      <td>263.280</td>\n",
              "      <td>0</td>\n",
              "    </tr>\n",
              "    <tr>\n",
              "      <th>1</th>\n",
              "      <td>553</td>\n",
              "      <td>2013-07-24 01:00:00</td>\n",
              "      <td>-10.0</td>\n",
              "      <td>-20.7</td>\n",
              "      <td>1011.0</td>\n",
              "      <td>267.175</td>\n",
              "      <td>0</td>\n",
              "    </tr>\n",
              "    <tr>\n",
              "      <th>2</th>\n",
              "      <td>554</td>\n",
              "      <td>2013-07-24 02:00:00</td>\n",
              "      <td>-10.7</td>\n",
              "      <td>-17.1</td>\n",
              "      <td>1003.0</td>\n",
              "      <td>269.555</td>\n",
              "      <td>0</td>\n",
              "    </tr>\n",
              "    <tr>\n",
              "      <th>3</th>\n",
              "      <td>555</td>\n",
              "      <td>2013-07-24 03:00:00</td>\n",
              "      <td>-13.6</td>\n",
              "      <td>-20.7</td>\n",
              "      <td>1008.0</td>\n",
              "      <td>273.060</td>\n",
              "      <td>0</td>\n",
              "    </tr>\n",
              "    <tr>\n",
              "      <th>4</th>\n",
              "      <td>556</td>\n",
              "      <td>2013-07-24 04:00:00</td>\n",
              "      <td>-10.7</td>\n",
              "      <td>-17.1</td>\n",
              "      <td>1006.0</td>\n",
              "      <td>1.765</td>\n",
              "      <td>0</td>\n",
              "    </tr>\n",
              "  </tbody>\n",
              "</table>\n",
              "</div>"
            ],
            "text/plain": [
              "    ID             datetime  temperature  var1  pressure  windspeed  var2_label\n",
              "0  552  2013-07-24 00:00:00        -10.0 -16.4    1011.0    263.280           0\n",
              "1  553  2013-07-24 01:00:00        -10.0 -20.7    1011.0    267.175           0\n",
              "2  554  2013-07-24 02:00:00        -10.7 -17.1    1003.0    269.555           0\n",
              "3  555  2013-07-24 03:00:00        -13.6 -20.7    1008.0    273.060           0\n",
              "4  556  2013-07-24 04:00:00        -10.7 -17.1    1006.0      1.765           0"
            ]
          },
          "metadata": {
            "tags": []
          },
          "execution_count": 17
        }
      ]
    },
    {
      "cell_type": "code",
      "metadata": {
        "id": "ILNASmyDj--6",
        "colab_type": "code",
        "colab": {}
      },
      "source": [
        "train['DateAndTime'] = pd.to_datetime(train['datetime'])\n",
        "test['DateAndTime'] = pd.to_datetime(test['datetime'])\n",
        "\n",
        "train['month'] = train['DateAndTime'].dt.month\n",
        "train['day'] = train['DateAndTime'].dt.day\n",
        "train['year'] = train['DateAndTime'].dt.year\n",
        "train['hour'] = train['DateAndTime'].dt.hour\n",
        "\n",
        "test['month'] = test['DateAndTime'].dt.month\n",
        "test['day'] = test['DateAndTime'].dt.day\n",
        "test['year'] = test['DateAndTime'].dt.year\n",
        "test['hour'] = test['DateAndTime'].dt.hour"
      ],
      "execution_count": 0,
      "outputs": []
    },
    {
      "cell_type": "code",
      "metadata": {
        "id": "rauP4zXdlsHH",
        "colab_type": "code",
        "colab": {}
      },
      "source": [
        "train = train.drop('datetime',axis=1)\n",
        "test = test.drop('datetime', axis=1)"
      ],
      "execution_count": 0,
      "outputs": []
    },
    {
      "cell_type": "code",
      "metadata": {
        "id": "e2HFnkezmBNa",
        "colab_type": "code",
        "colab": {}
      },
      "source": [
        "train = train.drop('DateAndTime',axis=1)\n",
        "test = test.drop('DateAndTime', axis=1)"
      ],
      "execution_count": 0,
      "outputs": []
    },
    {
      "cell_type": "code",
      "metadata": {
        "id": "hRXIXfAsg2td",
        "colab_type": "code",
        "colab": {}
      },
      "source": [
        "train['temp_shift_1'] = train.groupby('day')['temperature'].shift(1)\n",
        "train['pres_shift_1'] = train.groupby('day')['pressure'].shift(1)\n",
        "train['ws_shift_1'] = train.groupby('day')['windspeed'].shift(1)\n",
        "train['var1_shift_1'] = train.groupby('day')['var1'].shift(1)\n",
        "train['var2_label_shift_1'] = train.groupby('day')['var2_label'].shift(1)"
      ],
      "execution_count": 0,
      "outputs": []
    },
    {
      "cell_type": "code",
      "metadata": {
        "id": "jzIDXEfAiDUH",
        "colab_type": "code",
        "colab": {}
      },
      "source": [
        "test['temp_shift_1'] = test.groupby('day')['temperature'].shift(1)\n",
        "test['pres_shift_1'] = test.groupby('day')['pressure'].shift(1)\n",
        "test['ws_shift_1'] = test.groupby('day')['windspeed'].shift(1)\n",
        "test['var1_shift_1'] = test.groupby('day')['var1'].shift(1)\n",
        "test['var2_label_shift_1'] = test.groupby('day')['var2_label'].shift(1)"
      ],
      "execution_count": 0,
      "outputs": []
    },
    {
      "cell_type": "code",
      "metadata": {
        "id": "j7tIybUY8003",
        "colab_type": "code",
        "outputId": "675e243a-cf34-4ae6-d837-adfc3b3effc8",
        "colab": {
          "base_uri": "https://localhost:8080/",
          "height": 34
        }
      },
      "source": [
        "train.isnull().sum().sum()"
      ],
      "execution_count": 23,
      "outputs": [
        {
          "output_type": "execute_result",
          "data": {
            "text/plain": [
              "115"
            ]
          },
          "metadata": {
            "tags": []
          },
          "execution_count": 23
        }
      ]
    },
    {
      "cell_type": "code",
      "metadata": {
        "id": "eCu0rkUJAgT3",
        "colab_type": "code",
        "colab": {}
      },
      "source": [
        "train = train.dropna()"
      ],
      "execution_count": 0,
      "outputs": []
    },
    {
      "cell_type": "code",
      "metadata": {
        "id": "2HxDU2dBBUm8",
        "colab_type": "code",
        "outputId": "6556b20c-0bf3-436e-fcb7-04ab8f47f724",
        "colab": {
          "base_uri": "https://localhost:8080/",
          "height": 34
        }
      },
      "source": [
        "train.isnull().sum().sum()"
      ],
      "execution_count": 25,
      "outputs": [
        {
          "output_type": "execute_result",
          "data": {
            "text/plain": [
              "0"
            ]
          },
          "metadata": {
            "tags": []
          },
          "execution_count": 25
        }
      ]
    },
    {
      "cell_type": "code",
      "metadata": {
        "id": "1_VRqN9KBXfX",
        "colab_type": "code",
        "outputId": "007e5136-d521-487d-c454-2fc3fcaf5ade",
        "colab": {
          "base_uri": "https://localhost:8080/",
          "height": 34
        }
      },
      "source": [
        "test.isnull().sum().sum()"
      ],
      "execution_count": 26,
      "outputs": [
        {
          "output_type": "execute_result",
          "data": {
            "text/plain": [
              "40"
            ]
          },
          "metadata": {
            "tags": []
          },
          "execution_count": 26
        }
      ]
    },
    {
      "cell_type": "code",
      "metadata": {
        "id": "ShANz1wRBiCM",
        "colab_type": "code",
        "colab": {}
      },
      "source": [
        "test = test.fillna(test.mean())"
      ],
      "execution_count": 0,
      "outputs": []
    },
    {
      "cell_type": "code",
      "metadata": {
        "id": "HvVkH84eBh-1",
        "colab_type": "code",
        "outputId": "cc8680e4-eb31-455d-8936-b2555f49cce5",
        "colab": {
          "base_uri": "https://localhost:8080/",
          "height": 34
        }
      },
      "source": [
        "test.isnull().sum().sum()"
      ],
      "execution_count": 28,
      "outputs": [
        {
          "output_type": "execute_result",
          "data": {
            "text/plain": [
              "0"
            ]
          },
          "metadata": {
            "tags": []
          },
          "execution_count": 28
        }
      ]
    },
    {
      "cell_type": "code",
      "metadata": {
        "id": "QM_odj6-isM9",
        "colab_type": "code",
        "colab": {}
      },
      "source": [
        "X = train.copy()"
      ],
      "execution_count": 0,
      "outputs": []
    },
    {
      "cell_type": "code",
      "metadata": {
        "id": "PPaEy3VPiwLf",
        "colab_type": "code",
        "colab": {}
      },
      "source": [
        "y = X['electricity_consumption']\n",
        "X = X.drop(['electricity_consumption'],axis=1)"
      ],
      "execution_count": 0,
      "outputs": []
    },
    {
      "cell_type": "code",
      "metadata": {
        "id": "Rh8gVm1Qi3fu",
        "colab_type": "code",
        "colab": {}
      },
      "source": [
        "X_train, X_val, y_train, y_val = train_test_split(X, y, test_size=0.20, random_state=18)"
      ],
      "execution_count": 0,
      "outputs": []
    },
    {
      "cell_type": "markdown",
      "metadata": {
        "id": "fbaxLR5CSwx7",
        "colab_type": "text"
      },
      "source": [
        "***LGBM***"
      ]
    },
    {
      "cell_type": "code",
      "metadata": {
        "id": "SRZxRS98i6So",
        "colab_type": "code",
        "colab": {}
      },
      "source": [
        "model = LGBMRegressor(boosting_type='gbdt', class_weight=None, colsample_bytree=0.8,\n",
        "              importance_type='split', learning_rate=0.025, max_depth=8,\n",
        "              min_child_samples=20, min_child_weight=100, min_split_gain=0.0,\n",
        "              n_estimators=1000, n_jobs=-1, num_leaves=256,\n",
        "              random_state=None, reg_alpha=0.8, reg_lamda=0.8,silent=True)"
      ],
      "execution_count": 0,
      "outputs": []
    },
    {
      "cell_type": "code",
      "metadata": {
        "id": "Bwkx3Z33i8lc",
        "colab_type": "code",
        "outputId": "a65277a4-ddad-4a25-aac8-5755d08b3962",
        "colab": {
          "base_uri": "https://localhost:8080/",
          "height": 136
        }
      },
      "source": [
        "model.fit(X_train, y_train, eval_metric='rmse')"
      ],
      "execution_count": 33,
      "outputs": [
        {
          "output_type": "execute_result",
          "data": {
            "text/plain": [
              "LGBMRegressor(boosting_type='gbdt', class_weight=None, colsample_bytree=0.8,\n",
              "              importance_type='split', learning_rate=0.025, max_depth=8,\n",
              "              min_child_samples=20, min_child_weight=100, min_split_gain=0.0,\n",
              "              n_estimators=1000, n_jobs=-1, num_leaves=256, objective=None,\n",
              "              random_state=None, reg_alpha=0.8, reg_lambda=0.0, reg_lamda=0.8,\n",
              "              silent=True, subsample=1.0, subsample_for_bin=200000,\n",
              "              subsample_freq=0)"
            ]
          },
          "metadata": {
            "tags": []
          },
          "execution_count": 33
        }
      ]
    },
    {
      "cell_type": "markdown",
      "metadata": {
        "id": "jCV1d4aSSzQR",
        "colab_type": "text"
      },
      "source": [
        "***Random Forest***"
      ]
    },
    {
      "cell_type": "code",
      "metadata": {
        "id": "kVZVnwi_BuBE",
        "colab_type": "code",
        "colab": {}
      },
      "source": [
        "# model = RandomForestRegressor(n_estimators=2000,random_state=42)"
      ],
      "execution_count": 0,
      "outputs": []
    },
    {
      "cell_type": "code",
      "metadata": {
        "id": "JzmsMTGlCLsS",
        "colab_type": "code",
        "colab": {}
      },
      "source": [
        "# model.fit(X_train, y_train)"
      ],
      "execution_count": 0,
      "outputs": []
    },
    {
      "cell_type": "markdown",
      "metadata": {
        "id": "T4N_zkDUS8YZ",
        "colab_type": "text"
      },
      "source": [
        "**XGBOOST**"
      ]
    },
    {
      "cell_type": "code",
      "metadata": {
        "id": "VNjFSTT7S9_G",
        "colab_type": "code",
        "colab": {}
      },
      "source": [
        "#model = xgb.XGBRegressor(n_estimators=800, learning_rate=0.05,objective='reg:squarederror',max_depth=10,reg_alpha=0,reg_lambda=1,booster='gbtree')\n",
        "#model = xgb.XGBRegressor(n_estimators=1000, learning_rate=0.25,objective='reg:linear',max_depth=8,reg_alpha=0.7,reg_lambda=0.7,booster='gbtree')\n",
        "#model = xgb.XGBRegressor(n_estimators=2000)"
      ],
      "execution_count": 0,
      "outputs": []
    },
    {
      "cell_type": "code",
      "metadata": {
        "id": "MHnX-M2KS972",
        "colab_type": "code",
        "colab": {}
      },
      "source": [
        "#model.fit(X_train, y_train,verbose=True, eval_set=[(X_train, y_train), (X_val, y_val)], early_stopping_rounds = 10)\n",
        "#model.fit(X_train,y_train)"
      ],
      "execution_count": 0,
      "outputs": []
    },
    {
      "cell_type": "code",
      "metadata": {
        "id": "XErpi6SAVo8I",
        "colab_type": "code",
        "colab": {}
      },
      "source": [
        "# _ = plot_importance(model, height=0.9)"
      ],
      "execution_count": 0,
      "outputs": []
    },
    {
      "cell_type": "markdown",
      "metadata": {
        "id": "WUIYtcxcTdJI",
        "colab_type": "text"
      },
      "source": [
        "**CNN**"
      ]
    },
    {
      "cell_type": "code",
      "metadata": {
        "id": "qaY6u7IhTYOr",
        "colab_type": "code",
        "colab": {}
      },
      "source": [
        "# model = Sequential()\n",
        "# model.add(Reshape((1,X_train.shape[1],1)))\n",
        "# model.add(Conv2D(filters = 32, kernel_size = (1,1),padding = 'Same',\n",
        "#              activation ='relu', input_shape = (1,X_train.shape[1],1)))\n",
        "# model.add(Conv2D(filters = 32, kernel_size = (1,1),padding = 'Same',\n",
        "#              activation ='relu'))\n",
        "# model.add(Conv2D(filters = 32, kernel_size = (1,1),padding = 'Same',\n",
        "#              activation ='relu'))\n",
        "# model.add(Flatten())\n",
        "# model.add(Dense (500, activation='relu'))\n",
        "# model.add(Dense (10, activation='relu'))\n",
        "# model.add(Dense (1, activation='linear'))\n",
        "# model.compile(loss='mean_squared_error', optimizer='adam',\n",
        "#               metrics=['mse'])"
      ],
      "execution_count": 0,
      "outputs": []
    },
    {
      "cell_type": "code",
      "metadata": {
        "id": "e2yUbFyETYMn",
        "colab_type": "code",
        "colab": {}
      },
      "source": [
        "# CNNModel = model.fit(np.array(X_train), np.array(y_train), nb_epoch=10000, batch_size=20, validation_data=(np.array(X_val),np.array(y_val)))"
      ],
      "execution_count": 0,
      "outputs": []
    },
    {
      "cell_type": "markdown",
      "metadata": {
        "id": "tlPoDQs1tkl-",
        "colab_type": "text"
      },
      "source": [
        "**LSTM**"
      ]
    },
    {
      "cell_type": "code",
      "metadata": {
        "id": "LxU4Z18jtmTs",
        "colab_type": "code",
        "colab": {}
      },
      "source": [
        "# model = Sequential()\n",
        "# model.add(LSTM(50, activation='relu', input_shape=(1,X_train.shape[1],1)))\n",
        "# model.add(Dense (10, activation='relu'))\n",
        "# model.add(Dense (1, activation='linear'))\n",
        "# model.compile(loss='mean_squared_error', optimizer='adam',\n",
        "#               metrics=['mse'])\n",
        "# model.summary()"
      ],
      "execution_count": 0,
      "outputs": []
    },
    {
      "cell_type": "markdown",
      "metadata": {
        "id": "qbnG31utDIG9",
        "colab_type": "text"
      },
      "source": [
        "**Submission**"
      ]
    },
    {
      "cell_type": "code",
      "metadata": {
        "id": "7vLoSTRfi-jV",
        "colab_type": "code",
        "colab": {}
      },
      "source": [
        "predict_val = model.predict(X_val)"
      ],
      "execution_count": 0,
      "outputs": []
    },
    {
      "cell_type": "code",
      "metadata": {
        "id": "53cY7BkamSrd",
        "colab_type": "code",
        "outputId": "f77f0091-66d8-494e-b443-74c109c6b1c7",
        "colab": {
          "base_uri": "https://localhost:8080/",
          "height": 34
        }
      },
      "source": [
        "np.sqrt(mean_squared_error(y_val, predict_val))"
      ],
      "execution_count": 43,
      "outputs": [
        {
          "output_type": "execute_result",
          "data": {
            "text/plain": [
              "56.75567437064014"
            ]
          },
          "metadata": {
            "tags": []
          },
          "execution_count": 43
        }
      ]
    },
    {
      "cell_type": "code",
      "metadata": {
        "id": "q8upsKMRm_U_",
        "colab_type": "code",
        "colab": {}
      },
      "source": [
        "predictions = model.predict(test)\n",
        "submit = sample_submission.copy()\n",
        "submit['electricity_consumption'] = predictions\n",
        "submit.to_csv(\"submission_LGBM.csv\",index=False)"
      ],
      "execution_count": 0,
      "outputs": []
    },
    {
      "cell_type": "markdown",
      "metadata": {
        "id": "Lohrw-DMS3bm",
        "colab_type": "text"
      },
      "source": [
        "**Drop Features**"
      ]
    },
    {
      "cell_type": "code",
      "metadata": {
        "id": "7bs_uPZanEVL",
        "colab_type": "code",
        "colab": {}
      },
      "source": [
        "# train = train.drop(['month_var1_avg','day_var1_avg'],axis=1)\n",
        "# test = test.drop(['month_var1_avg','day_var1_avg'],axis=1)"
      ],
      "execution_count": 0,
      "outputs": []
    },
    {
      "cell_type": "code",
      "metadata": {
        "id": "Jsr8By70w4WV",
        "colab_type": "code",
        "colab": {}
      },
      "source": [
        "# train = train.drop(['temp_pres_diff', 'ws_pres_diff', 'temp_ws_diff', 'temp_roll_24_mean',\n",
        "#        'pres_roll_24_mean', 'ws_roll_24_mean', 'vo_roll_24_mean'],axis=1)"
      ],
      "execution_count": 0,
      "outputs": []
    },
    {
      "cell_type": "code",
      "metadata": {
        "id": "i3Z51hKnFWCF",
        "colab_type": "code",
        "colab": {}
      },
      "source": [
        "# test = test.drop(['temp_pres_diff', 'ws_pres_diff', 'temp_ws_diff', 'temp_roll_24_mean',\n",
        "#        'pres_roll_24_mean', 'ws_roll_24_mean', 'vo_roll_24_mean'],axis=1)"
      ],
      "execution_count": 0,
      "outputs": []
    },
    {
      "cell_type": "code",
      "metadata": {
        "id": "_pvogwnQT2Ix",
        "colab_type": "code",
        "colab": {}
      },
      "source": [
        "# train = train.drop(['pressure','var2_label'],axis=1)\n",
        "# test = test.drop(['pressure','var2_label'],axis=1)"
      ],
      "execution_count": 0,
      "outputs": []
    },
    {
      "cell_type": "markdown",
      "metadata": {
        "id": "RvacPsNkBGtL",
        "colab_type": "text"
      },
      "source": [
        "**Unused Features**"
      ]
    },
    {
      "cell_type": "code",
      "metadata": {
        "id": "G4Nc0Q6WdR5R",
        "colab_type": "code",
        "colab": {}
      },
      "source": [
        "# train['temp_shift_1'] = train.groupby('day')['temperature'].shift(2)\n",
        "# train['pres_shift_1'] = train.groupby('day')['pressure'].shift(2)\n",
        "# train['ws_shift_1'] = train.groupby('day')['windspeed'].shift(2)\n",
        "# train['var1_shift_1'] = train.groupby('day')['var1'].shift(2)\n",
        "# train['var2_label_shift_1'] = train.groupby('day')['var2_label'].shift(2)"
      ],
      "execution_count": 0,
      "outputs": []
    },
    {
      "cell_type": "code",
      "metadata": {
        "id": "Uj0CJG9OBNlJ",
        "colab_type": "code",
        "colab": {}
      },
      "source": [
        "# test['temp_shift_1'] = test.groupby('day')['temperature'].shift(2)\n",
        "# test['pres_shift_1'] = test.groupby('day')['pressure'].shift(2)\n",
        "# test['ws_shift_1'] = test.groupby('day')['windspeed'].shift(2)\n",
        "# test['var1_shift_1'] = test.groupby('day')['var1'].shift(2)\n",
        "# test['var2_label_shift_1'] = test.groupby('day')['var2_label'].shift(2)"
      ],
      "execution_count": 0,
      "outputs": []
    },
    {
      "cell_type": "code",
      "metadata": {
        "id": "IlLN3nTlBQmF",
        "colab_type": "code",
        "colab": {}
      },
      "source": [
        "# train['temp_pres_diff'] = train['temperature']-train['pressure']\n",
        "# train['ws_pres_diff'] = train['windspeed']-train['pressure']\n",
        "# train['temp_ws_diff'] = train['windspeed']-train['temperature']\n",
        "\n",
        "# test['temp_pres_diff'] = test['temperature']-test['pressure']\n",
        "# test['ws_pres_diff'] = test['windspeed']-test['pressure']\n",
        "# test['temp_ws_diff'] = test['windspeed']-test['temperature']"
      ],
      "execution_count": 0,
      "outputs": []
    },
    {
      "cell_type": "code",
      "metadata": {
        "id": "gNxw2_OgBX3k",
        "colab_type": "code",
        "colab": {}
      },
      "source": [
        "# temperatures = train['temperature']\n",
        "# window = temperatures.rolling(window=24)\n",
        "# std = window.std()\n",
        "# train['temp_roll_24_mean']=std\n",
        "\n",
        "# temperatures = test['temperature']\n",
        "# window = temperatures.rolling(window=24)\n",
        "# std = window.std()\n",
        "# test['temp_roll_24_mean']=std"
      ],
      "execution_count": 0,
      "outputs": []
    },
    {
      "cell_type": "code",
      "metadata": {
        "id": "Opm13i10BjLq",
        "colab_type": "code",
        "colab": {}
      },
      "source": [
        "# pressures = train['pressure']\n",
        "# window = pressures.rolling(window=24)\n",
        "# std = window.std()\n",
        "# train['pres_roll_24_mean']=std\n",
        "\n",
        "# pressures = test['pressure']\n",
        "# window = pressures.rolling(window=24)\n",
        "# std = window.std()\n",
        "# test['pres_roll_24_mean']=std"
      ],
      "execution_count": 0,
      "outputs": []
    },
    {
      "cell_type": "code",
      "metadata": {
        "id": "B_tNrI37BjDr",
        "colab_type": "code",
        "colab": {}
      },
      "source": [
        "# windspeeds = train['windspeed']\n",
        "# window = windspeeds.rolling(window=24)\n",
        "# std = window.std()\n",
        "# train['ws_roll_24_mean']=std\n",
        "\n",
        "# windspeeds = test['windspeed']\n",
        "# window = windspeeds.rolling(window=24)\n",
        "# std = window.std()\n",
        "# test['ws_roll_24_mean']=std"
      ],
      "execution_count": 0,
      "outputs": []
    },
    {
      "cell_type": "code",
      "metadata": {
        "id": "kuu_Z5JnBnzH",
        "colab_type": "code",
        "colab": {}
      },
      "source": [
        "# varones = train['var1']\n",
        "# window = varones.rolling(window=24)\n",
        "# std = window.std()\n",
        "# train['vo_roll_24_mean']=std\n",
        "\n",
        "# varones = test['var1']\n",
        "# window = varones.rolling(window=24)\n",
        "# std = window.std()\n",
        "# test['vo_roll_24_mean']=std"
      ],
      "execution_count": 0,
      "outputs": []
    },
    {
      "cell_type": "code",
      "metadata": {
        "id": "NhoMWUp5BacA",
        "colab_type": "code",
        "colab": {}
      },
      "source": [
        "# group = train.groupby(['month']).agg({'temperature':['mean']})\n",
        "# group.columns=['month_temp_avg']\n",
        "# group.reset_index(inplace=True)\n",
        "# train = train.merge(group,how='left',on='month')\n",
        "\n",
        "# group = train.groupby(['day']).agg({'temperature':['mean']})\n",
        "# group.columns=['day_temp_avg']\n",
        "# group.reset_index(inplace=True)\n",
        "# train = train.merge(group,how='left',on='day')"
      ],
      "execution_count": 0,
      "outputs": []
    },
    {
      "cell_type": "code",
      "metadata": {
        "id": "6GVHifHfBdNb",
        "colab_type": "code",
        "colab": {}
      },
      "source": [
        "# group = test.groupby(['month']).agg({'temperature':['mean']})\n",
        "# group.columns=['month_temp_avg']\n",
        "# group.reset_index(inplace=True)\n",
        "# test = test.merge(group,how='left',on='month')\n",
        "\n",
        "# group = test.groupby(['day']).agg({'temperature':['mean']})\n",
        "# group.columns=['day_temp_avg']\n",
        "# group.reset_index(inplace=True)\n",
        "# test = test.merge(group,how='left',on='day')"
      ],
      "execution_count": 0,
      "outputs": []
    },
    {
      "cell_type": "code",
      "metadata": {
        "id": "3P5vc9NUBuAg",
        "colab_type": "code",
        "colab": {}
      },
      "source": [
        "# group = train.groupby(['month']).agg({'windspeed':['mean']})\n",
        "# group.columns=['month_ws_avg']\n",
        "# group.reset_index(inplace=True)\n",
        "# train = train.merge(group,how='left',on='month')\n",
        "\n",
        "# group = train.groupby(['day']).agg({'windspeed':['mean']})\n",
        "# group.columns=['day_ws_avg']\n",
        "# group.reset_index(inplace=True)\n",
        "# train = train.merge(group,how='left',on='day')"
      ],
      "execution_count": 0,
      "outputs": []
    },
    {
      "cell_type": "code",
      "metadata": {
        "id": "6rR9gY0WBw18",
        "colab_type": "code",
        "colab": {}
      },
      "source": [
        "# group = test.groupby(['month']).agg({'windspeed':['mean']})\n",
        "# group.columns=['month_ws_avg']\n",
        "# group.reset_index(inplace=True)\n",
        "# test = test.merge(group,how='left',on='month')\n",
        "\n",
        "# group = test.groupby(['day']).agg({'windspeed':['mean']})\n",
        "# group.columns=['day_ws_avg']\n",
        "# group.reset_index(inplace=True)\n",
        "# test = test.merge(group,how='left',on='day')"
      ],
      "execution_count": 0,
      "outputs": []
    },
    {
      "cell_type": "code",
      "metadata": {
        "id": "2SjiCVnFBzme",
        "colab_type": "code",
        "colab": {}
      },
      "source": [
        "# group = train.groupby(['month']).agg({'pressure':['mean']})\n",
        "# group.columns=['month_pressure_avg']\n",
        "# group.reset_index(inplace=True)\n",
        "# train = train.merge(group,how='left',on='month')\n",
        "\n",
        "# group = train.groupby(['day']).agg({'pressure':['mean']})\n",
        "# group.columns=['day_pressure_avg']\n",
        "# group.reset_index(inplace=True)\n",
        "# train = train.merge(group,how='left',on='day')"
      ],
      "execution_count": 0,
      "outputs": []
    },
    {
      "cell_type": "code",
      "metadata": {
        "id": "NosQSzNVB1pX",
        "colab_type": "code",
        "colab": {}
      },
      "source": [
        "# group = test.groupby(['month']).agg({'pressure':['mean']})\n",
        "# group.columns=['month_pressure_avg']\n",
        "# group.reset_index(inplace=True)\n",
        "# test = test.merge(group,how='left',on='month')\n",
        "\n",
        "# group = test.groupby(['day']).agg({'pressure':['mean']})\n",
        "# group.columns=['day_pressure_avg']\n",
        "# group.reset_index(inplace=True)\n",
        "# test = test.merge(group,how='left',on='day')"
      ],
      "execution_count": 0,
      "outputs": []
    },
    {
      "cell_type": "code",
      "metadata": {
        "id": "8iJPLohIB30K",
        "colab_type": "code",
        "colab": {}
      },
      "source": [
        "# group = train.groupby(['month']).agg({'var1':['mean']})\n",
        "# group.columns=['month_var1_avg']\n",
        "# group.reset_index(inplace=True)\n",
        "# train = train.merge(group,how='left',on='month')\n",
        "\n",
        "# group = train.groupby(['day']).agg({'var1':['mean']})\n",
        "# group.columns=['day_var1_avg']\n",
        "# group.reset_index(inplace=True)\n",
        "# train = train.merge(group,how='left',on='day')"
      ],
      "execution_count": 0,
      "outputs": []
    },
    {
      "cell_type": "code",
      "metadata": {
        "id": "uRAZZ16jB6GE",
        "colab_type": "code",
        "colab": {}
      },
      "source": [
        "# group = test.groupby(['month']).agg({'var1':['mean']})\n",
        "# group.columns=['month_var1_avg']\n",
        "# group.reset_index(inplace=True)\n",
        "# test = test.merge(group,how='left',on='month')\n",
        "\n",
        "# group = test.groupby(['day']).agg({'var1':['mean']})\n",
        "# group.columns=['day_var1_avg']\n",
        "# group.reset_index(inplace=True)\n",
        "# test = test.merge(group,how='left',on='day')"
      ],
      "execution_count": 0,
      "outputs": []
    }
  ]
}